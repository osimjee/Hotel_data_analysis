{
 "cells": [
  {
   "cell_type": "markdown",
   "metadata": {},
   "source": [
    "# Hotel Data\n",
    "#### This notebook explores a data set containing hotel booking information"
   ]
  },
  {
   "cell_type": "code",
   "execution_count": 1,
   "metadata": {
    "scrolled": true
   },
   "outputs": [],
   "source": [
    "#Read in the file and import pandas\n",
    "import pandas as pd\n",
    "hotel_data = pd.read_csv(\"C:/Users/Omar.Simjee/Downloads/hotel-booking-demand/hotel_bookings.csv\")"
   ]
  },
  {
   "cell_type": "code",
   "execution_count": 2,
   "metadata": {},
   "outputs": [
    {
     "data": {
      "text/html": [
       "<div>\n",
       "<style scoped>\n",
       "    .dataframe tbody tr th:only-of-type {\n",
       "        vertical-align: middle;\n",
       "    }\n",
       "\n",
       "    .dataframe tbody tr th {\n",
       "        vertical-align: top;\n",
       "    }\n",
       "\n",
       "    .dataframe thead th {\n",
       "        text-align: right;\n",
       "    }\n",
       "</style>\n",
       "<table border=\"1\" class=\"dataframe\">\n",
       "  <thead>\n",
       "    <tr style=\"text-align: right;\">\n",
       "      <th></th>\n",
       "      <th>hotel</th>\n",
       "      <th>is_canceled</th>\n",
       "      <th>lead_time</th>\n",
       "      <th>arrival_date_year</th>\n",
       "      <th>arrival_date_month</th>\n",
       "      <th>arrival_date_week_number</th>\n",
       "      <th>arrival_date_day_of_month</th>\n",
       "      <th>stays_in_weekend_nights</th>\n",
       "      <th>stays_in_week_nights</th>\n",
       "      <th>adults</th>\n",
       "      <th>...</th>\n",
       "      <th>deposit_type</th>\n",
       "      <th>agent</th>\n",
       "      <th>company</th>\n",
       "      <th>days_in_waiting_list</th>\n",
       "      <th>customer_type</th>\n",
       "      <th>adr</th>\n",
       "      <th>required_car_parking_spaces</th>\n",
       "      <th>total_of_special_requests</th>\n",
       "      <th>reservation_status</th>\n",
       "      <th>reservation_status_date</th>\n",
       "    </tr>\n",
       "  </thead>\n",
       "  <tbody>\n",
       "    <tr>\n",
       "      <td>0</td>\n",
       "      <td>Resort Hotel</td>\n",
       "      <td>0</td>\n",
       "      <td>342</td>\n",
       "      <td>2015</td>\n",
       "      <td>July</td>\n",
       "      <td>27</td>\n",
       "      <td>1</td>\n",
       "      <td>0</td>\n",
       "      <td>0</td>\n",
       "      <td>2</td>\n",
       "      <td>...</td>\n",
       "      <td>No Deposit</td>\n",
       "      <td>NaN</td>\n",
       "      <td>NaN</td>\n",
       "      <td>0</td>\n",
       "      <td>Transient</td>\n",
       "      <td>0.0</td>\n",
       "      <td>0</td>\n",
       "      <td>0</td>\n",
       "      <td>Check-Out</td>\n",
       "      <td>2015-07-01</td>\n",
       "    </tr>\n",
       "    <tr>\n",
       "      <td>1</td>\n",
       "      <td>Resort Hotel</td>\n",
       "      <td>0</td>\n",
       "      <td>737</td>\n",
       "      <td>2015</td>\n",
       "      <td>July</td>\n",
       "      <td>27</td>\n",
       "      <td>1</td>\n",
       "      <td>0</td>\n",
       "      <td>0</td>\n",
       "      <td>2</td>\n",
       "      <td>...</td>\n",
       "      <td>No Deposit</td>\n",
       "      <td>NaN</td>\n",
       "      <td>NaN</td>\n",
       "      <td>0</td>\n",
       "      <td>Transient</td>\n",
       "      <td>0.0</td>\n",
       "      <td>0</td>\n",
       "      <td>0</td>\n",
       "      <td>Check-Out</td>\n",
       "      <td>2015-07-01</td>\n",
       "    </tr>\n",
       "    <tr>\n",
       "      <td>2</td>\n",
       "      <td>Resort Hotel</td>\n",
       "      <td>0</td>\n",
       "      <td>7</td>\n",
       "      <td>2015</td>\n",
       "      <td>July</td>\n",
       "      <td>27</td>\n",
       "      <td>1</td>\n",
       "      <td>0</td>\n",
       "      <td>1</td>\n",
       "      <td>1</td>\n",
       "      <td>...</td>\n",
       "      <td>No Deposit</td>\n",
       "      <td>NaN</td>\n",
       "      <td>NaN</td>\n",
       "      <td>0</td>\n",
       "      <td>Transient</td>\n",
       "      <td>75.0</td>\n",
       "      <td>0</td>\n",
       "      <td>0</td>\n",
       "      <td>Check-Out</td>\n",
       "      <td>2015-07-02</td>\n",
       "    </tr>\n",
       "    <tr>\n",
       "      <td>3</td>\n",
       "      <td>Resort Hotel</td>\n",
       "      <td>0</td>\n",
       "      <td>13</td>\n",
       "      <td>2015</td>\n",
       "      <td>July</td>\n",
       "      <td>27</td>\n",
       "      <td>1</td>\n",
       "      <td>0</td>\n",
       "      <td>1</td>\n",
       "      <td>1</td>\n",
       "      <td>...</td>\n",
       "      <td>No Deposit</td>\n",
       "      <td>304.0</td>\n",
       "      <td>NaN</td>\n",
       "      <td>0</td>\n",
       "      <td>Transient</td>\n",
       "      <td>75.0</td>\n",
       "      <td>0</td>\n",
       "      <td>0</td>\n",
       "      <td>Check-Out</td>\n",
       "      <td>2015-07-02</td>\n",
       "    </tr>\n",
       "    <tr>\n",
       "      <td>4</td>\n",
       "      <td>Resort Hotel</td>\n",
       "      <td>0</td>\n",
       "      <td>14</td>\n",
       "      <td>2015</td>\n",
       "      <td>July</td>\n",
       "      <td>27</td>\n",
       "      <td>1</td>\n",
       "      <td>0</td>\n",
       "      <td>2</td>\n",
       "      <td>2</td>\n",
       "      <td>...</td>\n",
       "      <td>No Deposit</td>\n",
       "      <td>240.0</td>\n",
       "      <td>NaN</td>\n",
       "      <td>0</td>\n",
       "      <td>Transient</td>\n",
       "      <td>98.0</td>\n",
       "      <td>0</td>\n",
       "      <td>1</td>\n",
       "      <td>Check-Out</td>\n",
       "      <td>2015-07-03</td>\n",
       "    </tr>\n",
       "  </tbody>\n",
       "</table>\n",
       "<p>5 rows × 32 columns</p>\n",
       "</div>"
      ],
      "text/plain": [
       "          hotel  is_canceled  lead_time  arrival_date_year arrival_date_month  \\\n",
       "0  Resort Hotel            0        342               2015               July   \n",
       "1  Resort Hotel            0        737               2015               July   \n",
       "2  Resort Hotel            0          7               2015               July   \n",
       "3  Resort Hotel            0         13               2015               July   \n",
       "4  Resort Hotel            0         14               2015               July   \n",
       "\n",
       "   arrival_date_week_number  arrival_date_day_of_month  \\\n",
       "0                        27                          1   \n",
       "1                        27                          1   \n",
       "2                        27                          1   \n",
       "3                        27                          1   \n",
       "4                        27                          1   \n",
       "\n",
       "   stays_in_weekend_nights  stays_in_week_nights  adults  ...  deposit_type  \\\n",
       "0                        0                     0       2  ...    No Deposit   \n",
       "1                        0                     0       2  ...    No Deposit   \n",
       "2                        0                     1       1  ...    No Deposit   \n",
       "3                        0                     1       1  ...    No Deposit   \n",
       "4                        0                     2       2  ...    No Deposit   \n",
       "\n",
       "   agent company days_in_waiting_list customer_type   adr  \\\n",
       "0    NaN     NaN                    0     Transient   0.0   \n",
       "1    NaN     NaN                    0     Transient   0.0   \n",
       "2    NaN     NaN                    0     Transient  75.0   \n",
       "3  304.0     NaN                    0     Transient  75.0   \n",
       "4  240.0     NaN                    0     Transient  98.0   \n",
       "\n",
       "   required_car_parking_spaces  total_of_special_requests  reservation_status  \\\n",
       "0                            0                          0           Check-Out   \n",
       "1                            0                          0           Check-Out   \n",
       "2                            0                          0           Check-Out   \n",
       "3                            0                          0           Check-Out   \n",
       "4                            0                          1           Check-Out   \n",
       "\n",
       "  reservation_status_date  \n",
       "0              2015-07-01  \n",
       "1              2015-07-01  \n",
       "2              2015-07-02  \n",
       "3              2015-07-02  \n",
       "4              2015-07-03  \n",
       "\n",
       "[5 rows x 32 columns]"
      ]
     },
     "execution_count": 2,
     "metadata": {},
     "output_type": "execute_result"
    }
   ],
   "source": [
    "#Initial look at data set\n",
    "hotel_data.head()"
   ]
  },
  {
   "cell_type": "code",
   "execution_count": 3,
   "metadata": {
    "scrolled": true
   },
   "outputs": [
    {
     "data": {
      "text/plain": [
       "Index(['hotel', 'is_canceled', 'lead_time', 'arrival_date_year',\n",
       "       'arrival_date_month', 'arrival_date_week_number',\n",
       "       'arrival_date_day_of_month', 'stays_in_weekend_nights',\n",
       "       'stays_in_week_nights', 'adults', 'children', 'babies', 'meal',\n",
       "       'country', 'market_segment', 'distribution_channel',\n",
       "       'is_repeated_guest', 'previous_cancellations',\n",
       "       'previous_bookings_not_canceled', 'reserved_room_type',\n",
       "       'assigned_room_type', 'booking_changes', 'deposit_type', 'agent',\n",
       "       'company', 'days_in_waiting_list', 'customer_type', 'adr',\n",
       "       'required_car_parking_spaces', 'total_of_special_requests',\n",
       "       'reservation_status', 'reservation_status_date'],\n",
       "      dtype='object')"
      ]
     },
     "execution_count": 3,
     "metadata": {},
     "output_type": "execute_result"
    }
   ],
   "source": [
    "#check the columns of the dataframe\n",
    "hotel_data.columns"
   ]
  },
  {
   "cell_type": "code",
   "execution_count": 4,
   "metadata": {},
   "outputs": [],
   "source": [
    "#create new column to contain total nights of stay\n",
    "hotel_data[\"total_nights\"] = hotel_data[\"stays_in_weekend_nights\"] + hotel_data[\"stays_in_week_nights\"]"
   ]
  },
  {
   "cell_type": "code",
   "execution_count": 5,
   "metadata": {
    "scrolled": true
   },
   "outputs": [],
   "source": [
    "\n",
    "#This is where we take the data and sort it by year, month, week, and day\n",
    "hotel_data = hotel_data.sort_values(by=['arrival_date_year', 'arrival_date_month', 'arrival_date_week_number','arrival_date_day_of_month'])"
   ]
  },
  {
   "cell_type": "code",
   "execution_count": 6,
   "metadata": {},
   "outputs": [],
   "source": [
    "#rename columns for ease of use\n",
    "hotel_data = hotel_data.rename(columns = {'arrival_date_year': 'year', 'arrival_date_month': 'month', 'arrival_date_week_number':'week_number', 'arrival_date_day_of_month': 'day'})"
   ]
  },
  {
   "cell_type": "code",
   "execution_count": 7,
   "metadata": {},
   "outputs": [
    {
     "data": {
      "text/plain": [
       "week_number\n",
       "1      3490\n",
       "2      3570\n",
       "3      4208\n",
       "4      4010\n",
       "5      3994\n",
       "6      5028\n",
       "7      6276\n",
       "8      6135\n",
       "9      7401\n",
       "10     7582\n",
       "11     7084\n",
       "12     6841\n",
       "13     7799\n",
       "14     7724\n",
       "15     8859\n",
       "16     8317\n",
       "17     9177\n",
       "18     9966\n",
       "19     8221\n",
       "20     9198\n",
       "21     8697\n",
       "22     8429\n",
       "23     9134\n",
       "24     9049\n",
       "25     9671\n",
       "26     8368\n",
       "27    10387\n",
       "28    11293\n",
       "29    11075\n",
       "30    11890\n",
       "31    10959\n",
       "32    12374\n",
       "33    13238\n",
       "34    11842\n",
       "35     9973\n",
       "36     8482\n",
       "37     8143\n",
       "38     8342\n",
       "39     8938\n",
       "40     8076\n",
       "41     8965\n",
       "42     7594\n",
       "43     7671\n",
       "44     6952\n",
       "45     6923\n",
       "46     5178\n",
       "47     5298\n",
       "48     4191\n",
       "49     5330\n",
       "50     4060\n",
       "51     2598\n",
       "52     4768\n",
       "53     6489\n",
       "Name: total_nights, dtype: int64"
      ]
     },
     "execution_count": 7,
     "metadata": {},
     "output_type": "execute_result"
    }
   ],
   "source": [
    "#checking to see the total nights booked for each week\n",
    "hotel_data.groupby(['week_number'])['total_nights'].sum()"
   ]
  },
  {
   "cell_type": "code",
   "execution_count": 8,
   "metadata": {},
   "outputs": [
    {
     "data": {
      "text/plain": [
       "month\n",
       "April        37335\n",
       "August       54077\n",
       "December     21849\n",
       "February     24455\n",
       "January      17618\n",
       "July         49705\n",
       "June         39116\n",
       "March        33489\n",
       "May          38634\n",
       "November     21667\n",
       "October      34887\n",
       "September    36425\n",
       "Name: total_nights, dtype: int64"
      ]
     },
     "execution_count": 8,
     "metadata": {},
     "output_type": "execute_result"
    }
   ],
   "source": [
    "#checking to see the total nights booked for each month\n",
    "hotel_data.groupby(['month'])['total_nights'].sum()"
   ]
  },
  {
   "cell_type": "code",
   "execution_count": 9,
   "metadata": {},
   "outputs": [
    {
     "data": {
      "text/plain": [
       "year\n",
       "2015     74588\n",
       "2016    189219\n",
       "2017    145450\n",
       "Name: total_nights, dtype: int64"
      ]
     },
     "execution_count": 9,
     "metadata": {},
     "output_type": "execute_result"
    }
   ],
   "source": [
    "#checking to see the total nights booked for each year\n",
    "hotel_data.groupby(['year'])['total_nights'].sum()"
   ]
  },
  {
   "cell_type": "code",
   "execution_count": 10,
   "metadata": {},
   "outputs": [
    {
     "data": {
      "text/plain": [
       "<Figure size 640x480 with 1 Axes>"
      ]
     },
     "metadata": {},
     "output_type": "display_data"
    }
   ],
   "source": [
    "#Graphing total nights by week \n",
    "import matplotlib.pyplot as plt\n",
    "\n",
    "plt.plot(hotel_data.groupby(['week_number'])['total_nights'].sum())\n",
    "plt.show()\n",
    "#while this is much more granular data, initially I want to look at the month by month differences and come back to see the week\n",
    "# by week difference"
   ]
  },
  {
   "cell_type": "code",
   "execution_count": 11,
   "metadata": {},
   "outputs": [
    {
     "data": {
      "image/png": "[encoded data removed]",
      "text/plain": [
       "<Figure size 432x288 with 1 Axes>"
      ]
     },
     "metadata": {
      "needs_background": "light"
     },
     "output_type": "display_data"
    }
   ],
   "source": [
    "#graphing total nights by month\n",
    "#since we'll be using it a lot setting it here so that we can access it easier\n",
    "month_grouped_data = hotel_data.groupby('month')\n",
    "\n",
    "plt.plot(hotel_data.groupby(['month'])['total_nights'].sum())\n",
    "plt.show()\n",
    "#need to order months properly"
   ]
  },
  {
   "cell_type": "code",
   "execution_count": 12,
   "metadata": {},
   "outputs": [],
   "source": [
    "#Replacing month names with their corresponding number value\n",
    "d = {'January':1, 'February':2, 'March':3, 'April':4, 'May':5, \"June\": 6,\n",
    "    \"July\" : 7, \"August\" : 8, \"September\" : 9, \"October\" : 10, \"November\" : 11, \"December\" : 12}\n",
    "\n",
    "hotel_data['month'] = hotel_data['month'].replace(d)"
   ]
  },
  {
   "cell_type": "code",
   "execution_count": 13,
   "metadata": {},
   "outputs": [
    {
     "data": {
      "image/png": "[encoded data removed]",
      "text/plain": [
       "<Figure size 432x288 with 1 Axes>"
      ]
     },
     "metadata": {
      "needs_background": "light"
     },
     "output_type": "display_data"
    }
   ],
   "source": [
    "#setting it as a variable cause we access it a lot \n",
    "month_grouped_data = hotel_data.groupby('month')\n",
    "#Plotting again to see the total nights by month in order\n",
    "plt.plot(month_grouped_data['total_nights'].sum())\n",
    "plt.show()\n",
    "#Clear peak between June and September, these are Summer months so it makes sense that people are spending more nights in hotels"
   ]
  },
  {
   "cell_type": "code",
   "execution_count": 14,
   "metadata": {},
   "outputs": [
    {
     "data": {
      "image/png": "[encoded data removed]",
      "text/plain": [
       "<Figure size 432x288 with 1 Axes>"
      ]
     },
     "metadata": {
      "needs_background": "light"
     },
     "output_type": "display_data"
    }
   ],
   "source": [
    "#plotting to see the total number of bookings per month\n",
    "plt.plot(month_grouped_data.count()['hotel'])\n",
    "plt.show()\n",
    "#Still has the peak in Summer months but here we see that there are also smaller peaks in May and October"
   ]
  },
  {
   "cell_type": "code",
   "execution_count": 15,
   "metadata": {},
   "outputs": [
    {
     "data": {
      "text/plain": [
       "<function matplotlib.pyplot.show(*args, **kw)>"
      ]
     },
     "execution_count": 15,
     "metadata": {},
     "output_type": "execute_result"
    },
    {
     "data": {
      "image/png": "[encoded data removed]",
      "text/plain": [
       "<Figure size 432x288 with 1 Axes>"
      ]
     },
     "metadata": {
      "needs_background": "light"
     },
     "output_type": "display_data"
    }
   ],
   "source": [
    "#plotting to see average number of nights stayed per month\n",
    "plt.plot(month_grouped_data['total_nights'].sum()/month_grouped_data.count()['hotel'])\n",
    "plt.show\n",
    "#I wanted to see the change in average nights stayed, this shows that while there are smaller peaks in bookings in May and October\n",
    "#, those months are both actually small valleys in average number of nights stayed and signal the beginning and end of the busy\n",
    "# (Summer) season."
   ]
  },
  {
   "cell_type": "code",
   "execution_count": 16,
   "metadata": {},
   "outputs": [
    {
     "data": {
      "image/png": "[encoded data removed]",
      "text/plain": [
       "<Figure size 432x288 with 1 Axes>"
      ]
     },
     "metadata": {
      "needs_background": "light"
     },
     "output_type": "display_data"
    }
   ],
   "source": [
    "#plotting to see adr (average daily rate) by month\n",
    "plt.plot(month_grouped_data['adr'].mean())\n",
    "plt.show()\n",
    "#adr (average daily rate) has a very clear peak in July (the middle of summer) and drops from there"
   ]
  },
  {
   "cell_type": "code",
   "execution_count": 17,
   "metadata": {},
   "outputs": [
    {
     "data": {
      "text/plain": [
       "<function matplotlib.pyplot.show(*args, **kw)>"
      ]
     },
     "execution_count": 17,
     "metadata": {},
     "output_type": "execute_result"
    },
    {
     "data": {
      "image/png": "[encoded data removed]",
      "text/plain": [
       "<Figure size 432x288 with 1 Axes>"
      ]
     },
     "metadata": {
      "needs_background": "light"
     },
     "output_type": "display_data"
    }
   ],
   "source": [
    "#plotting to see average value made per booking per month\n",
    "average_stay = month_grouped_data['total_nights'].sum()/month_grouped_data.count()['hotel']\n",
    "monthly_adr = month_grouped_data['adr'].mean()\n",
    "plt.plot(average_stay*monthly_adr)\n",
    "plt.show\n",
    "#very closely follows the adr values. Shows that the adr is accounting for the average numbers of nights stayed already"
   ]
  },
  {
   "cell_type": "markdown",
   "metadata": {},
   "source": [
    "### At this point it's pretty clear that Summer months are the peak months across what I believe to be main indicators: total number of bookings, total number of nights, avg number of days stayed, adr, and reveune per booking. Now I want to look at some of the other columns to try and see the quality of the bookings\n"
   ]
  },
  {
   "cell_type": "code",
   "execution_count": 18,
   "metadata": {},
   "outputs": [
    {
     "data": {
      "text/plain": [
       "<matplotlib.axes._subplots.AxesSubplot at 0x2a46ddfe248>"
      ]
     },
     "execution_count": 18,
     "metadata": {},
     "output_type": "execute_result"
    },
    {
     "data": {
      "image/png": "[encoded data removed]",
      "text/plain": [
       "<Figure size 432x288 with 1 Axes>"
      ]
     },
     "metadata": {
      "needs_background": "light"
     },
     "output_type": "display_data"
    }
   ],
   "source": [
    "#graphing out the total nights booked by type (City vs Resort)\n",
    "hotel_data.groupby(['month', 'hotel'])['total_nights'].count().unstack().plot()\n",
    "#both tend to rise and fall with the same rates"
   ]
  },
  {
   "cell_type": "code",
   "execution_count": 19,
   "metadata": {},
   "outputs": [
    {
     "data": {
      "text/plain": [
       "<matplotlib.axes._subplots.AxesSubplot at 0x2a46df2cd48>"
      ]
     },
     "execution_count": 19,
     "metadata": {},
     "output_type": "execute_result"
    },
    {
     "data": {
      "image/png": "[encoded data removed]",
      "text/plain": [
       "<Figure size 432x288 with 1 Axes>"
      ]
     },
     "metadata": {
      "needs_background": "light"
     },
     "output_type": "display_data"
    }
   ],
   "source": [
    "#checking to see difference in adr between city and resort\n",
    "hotel_data.groupby(['month', 'hotel'])['adr'].mean().unstack().plot()\n",
    "#A big difference now in terms of seasonal rates. City actually peaks in May and sort of drops from there but doesn't have\n",
    "# a very large range of prices overall. Resort peaks in July and has a very large range of prices with it being 3 times more \n",
    "# expensive in summer as opposed to off peak in Winter.\n",
    "\n",
    "#Since there's a difference in adr there might also be a difference in the amount made per booking"
   ]
  },
  {
   "cell_type": "code",
   "execution_count": 20,
   "metadata": {},
   "outputs": [
    {
     "data": {
      "text/plain": [
       "<matplotlib.axes._subplots.AxesSubplot at 0x2a46ee68608>"
      ]
     },
     "execution_count": 20,
     "metadata": {},
     "output_type": "execute_result"
    },
    {
     "data": {
      "image/png": "[encoded data removed]",
      "text/plain": [
       "<Figure size 432x288 with 1 Axes>"
      ]
     },
     "metadata": {
      "needs_background": "light"
     },
     "output_type": "display_data"
    }
   ],
   "source": [
    "#average number of days stayed per booking\n",
    "average_days_stayed = (hotel_data.groupby(['month','hotel'])['total_nights'].sum()/month_grouped_data.count()['hotel'])\n",
    "\n",
    "#average adr\n",
    "average_adr = hotel_data.groupby(['month', 'hotel'])['adr'].mean()\n",
    "\n",
    "#multiply them to get average revenue per booking\n",
    "(average_days_stayed*average_adr).unstack().plot()\n",
    "#follows roughly the same trend as the previous plot, so just confirms the previous insights"
   ]
  },
  {
   "cell_type": "markdown",
   "metadata": {},
   "source": [
    "### The above plots show that in order to get the most value for their money, consumers should be looking to book rooms between October and May. In particular, with Resort hotels they can get far better prices by booking in those months\n",
    "\n",
    "### On the Hotel owners end of things, let's look into other factors related to why the prices go up in Summer months"
   ]
  },
  {
   "cell_type": "code",
   "execution_count": 21,
   "metadata": {
    "scrolled": false
   },
   "outputs": [
    {
     "data": {
      "text/html": [
       "<div>\n",
       "<style scoped>\n",
       "    .dataframe tbody tr th:only-of-type {\n",
       "        vertical-align: middle;\n",
       "    }\n",
       "\n",
       "    .dataframe tbody tr th {\n",
       "        vertical-align: top;\n",
       "    }\n",
       "\n",
       "    .dataframe thead th {\n",
       "        text-align: right;\n",
       "    }\n",
       "</style>\n",
       "<table border=\"1\" class=\"dataframe\">\n",
       "  <thead>\n",
       "    <tr style=\"text-align: right;\">\n",
       "      <th>adults</th>\n",
       "      <th>0</th>\n",
       "      <th>1</th>\n",
       "      <th>2</th>\n",
       "      <th>3</th>\n",
       "      <th>4</th>\n",
       "      <th>5</th>\n",
       "      <th>6</th>\n",
       "      <th>10</th>\n",
       "      <th>20</th>\n",
       "      <th>26</th>\n",
       "      <th>27</th>\n",
       "      <th>40</th>\n",
       "      <th>50</th>\n",
       "      <th>55</th>\n",
       "    </tr>\n",
       "    <tr>\n",
       "      <th>month</th>\n",
       "      <th></th>\n",
       "      <th></th>\n",
       "      <th></th>\n",
       "      <th></th>\n",
       "      <th></th>\n",
       "      <th></th>\n",
       "      <th></th>\n",
       "      <th></th>\n",
       "      <th></th>\n",
       "      <th></th>\n",
       "      <th></th>\n",
       "      <th></th>\n",
       "      <th></th>\n",
       "      <th></th>\n",
       "    </tr>\n",
       "  </thead>\n",
       "  <tbody>\n",
       "    <tr>\n",
       "      <td>1</td>\n",
       "      <td>26.0</td>\n",
       "      <td>1987.0</td>\n",
       "      <td>3711.0</td>\n",
       "      <td>205.0</td>\n",
       "      <td>NaN</td>\n",
       "      <td>NaN</td>\n",
       "      <td>NaN</td>\n",
       "      <td>NaN</td>\n",
       "      <td>NaN</td>\n",
       "      <td>NaN</td>\n",
       "      <td>NaN</td>\n",
       "      <td>NaN</td>\n",
       "      <td>NaN</td>\n",
       "      <td>NaN</td>\n",
       "    </tr>\n",
       "    <tr>\n",
       "      <td>2</td>\n",
       "      <td>34.0</td>\n",
       "      <td>1972.0</td>\n",
       "      <td>5710.0</td>\n",
       "      <td>350.0</td>\n",
       "      <td>2.0</td>\n",
       "      <td>NaN</td>\n",
       "      <td>NaN</td>\n",
       "      <td>NaN</td>\n",
       "      <td>NaN</td>\n",
       "      <td>NaN</td>\n",
       "      <td>NaN</td>\n",
       "      <td>NaN</td>\n",
       "      <td>NaN</td>\n",
       "      <td>NaN</td>\n",
       "    </tr>\n",
       "    <tr>\n",
       "      <td>3</td>\n",
       "      <td>43.0</td>\n",
       "      <td>2272.0</td>\n",
       "      <td>7038.0</td>\n",
       "      <td>437.0</td>\n",
       "      <td>4.0</td>\n",
       "      <td>NaN</td>\n",
       "      <td>NaN</td>\n",
       "      <td>NaN</td>\n",
       "      <td>NaN</td>\n",
       "      <td>NaN</td>\n",
       "      <td>NaN</td>\n",
       "      <td>NaN</td>\n",
       "      <td>NaN</td>\n",
       "      <td>NaN</td>\n",
       "    </tr>\n",
       "    <tr>\n",
       "      <td>4</td>\n",
       "      <td>32.0</td>\n",
       "      <td>1924.0</td>\n",
       "      <td>8520.0</td>\n",
       "      <td>610.0</td>\n",
       "      <td>3.0</td>\n",
       "      <td>NaN</td>\n",
       "      <td>NaN</td>\n",
       "      <td>NaN</td>\n",
       "      <td>NaN</td>\n",
       "      <td>NaN</td>\n",
       "      <td>NaN</td>\n",
       "      <td>NaN</td>\n",
       "      <td>NaN</td>\n",
       "      <td>NaN</td>\n",
       "    </tr>\n",
       "    <tr>\n",
       "      <td>5</td>\n",
       "      <td>27.0</td>\n",
       "      <td>2458.0</td>\n",
       "      <td>8843.0</td>\n",
       "      <td>457.0</td>\n",
       "      <td>6.0</td>\n",
       "      <td>NaN</td>\n",
       "      <td>NaN</td>\n",
       "      <td>NaN</td>\n",
       "      <td>NaN</td>\n",
       "      <td>NaN</td>\n",
       "      <td>NaN</td>\n",
       "      <td>NaN</td>\n",
       "      <td>NaN</td>\n",
       "      <td>NaN</td>\n",
       "    </tr>\n",
       "    <tr>\n",
       "      <td>6</td>\n",
       "      <td>22.0</td>\n",
       "      <td>2055.0</td>\n",
       "      <td>8292.0</td>\n",
       "      <td>566.0</td>\n",
       "      <td>4.0</td>\n",
       "      <td>NaN</td>\n",
       "      <td>NaN</td>\n",
       "      <td>NaN</td>\n",
       "      <td>NaN</td>\n",
       "      <td>NaN</td>\n",
       "      <td>NaN</td>\n",
       "      <td>NaN</td>\n",
       "      <td>NaN</td>\n",
       "      <td>NaN</td>\n",
       "    </tr>\n",
       "    <tr>\n",
       "      <td>7</td>\n",
       "      <td>50.0</td>\n",
       "      <td>1274.0</td>\n",
       "      <td>10134.0</td>\n",
       "      <td>1190.0</td>\n",
       "      <td>13.0</td>\n",
       "      <td>NaN</td>\n",
       "      <td>NaN</td>\n",
       "      <td>NaN</td>\n",
       "      <td>NaN</td>\n",
       "      <td>NaN</td>\n",
       "      <td>NaN</td>\n",
       "      <td>NaN</td>\n",
       "      <td>NaN</td>\n",
       "      <td>NaN</td>\n",
       "    </tr>\n",
       "    <tr>\n",
       "      <td>8</td>\n",
       "      <td>48.0</td>\n",
       "      <td>1168.0</td>\n",
       "      <td>11373.0</td>\n",
       "      <td>1271.0</td>\n",
       "      <td>17.0</td>\n",
       "      <td>NaN</td>\n",
       "      <td>NaN</td>\n",
       "      <td>NaN</td>\n",
       "      <td>NaN</td>\n",
       "      <td>NaN</td>\n",
       "      <td>NaN</td>\n",
       "      <td>NaN</td>\n",
       "      <td>NaN</td>\n",
       "      <td>NaN</td>\n",
       "    </tr>\n",
       "    <tr>\n",
       "      <td>9</td>\n",
       "      <td>19.0</td>\n",
       "      <td>1863.0</td>\n",
       "      <td>8291.0</td>\n",
       "      <td>320.0</td>\n",
       "      <td>7.0</td>\n",
       "      <td>NaN</td>\n",
       "      <td>NaN</td>\n",
       "      <td>NaN</td>\n",
       "      <td>NaN</td>\n",
       "      <td>4.0</td>\n",
       "      <td>2.0</td>\n",
       "      <td>1.0</td>\n",
       "      <td>1.0</td>\n",
       "      <td>NaN</td>\n",
       "    </tr>\n",
       "    <tr>\n",
       "      <td>10</td>\n",
       "      <td>29.0</td>\n",
       "      <td>2473.0</td>\n",
       "      <td>8292.0</td>\n",
       "      <td>357.0</td>\n",
       "      <td>1.0</td>\n",
       "      <td>2.0</td>\n",
       "      <td>1.0</td>\n",
       "      <td>1.0</td>\n",
       "      <td>2.0</td>\n",
       "      <td>1.0</td>\n",
       "      <td>NaN</td>\n",
       "      <td>NaN</td>\n",
       "      <td>NaN</td>\n",
       "      <td>1.0</td>\n",
       "    </tr>\n",
       "    <tr>\n",
       "      <td>11</td>\n",
       "      <td>29.0</td>\n",
       "      <td>2167.0</td>\n",
       "      <td>4474.0</td>\n",
       "      <td>123.0</td>\n",
       "      <td>1.0</td>\n",
       "      <td>NaN</td>\n",
       "      <td>NaN</td>\n",
       "      <td>NaN</td>\n",
       "      <td>NaN</td>\n",
       "      <td>NaN</td>\n",
       "      <td>NaN</td>\n",
       "      <td>NaN</td>\n",
       "      <td>NaN</td>\n",
       "      <td>NaN</td>\n",
       "    </tr>\n",
       "    <tr>\n",
       "      <td>12</td>\n",
       "      <td>44.0</td>\n",
       "      <td>1414.0</td>\n",
       "      <td>5002.0</td>\n",
       "      <td>316.0</td>\n",
       "      <td>4.0</td>\n",
       "      <td>NaN</td>\n",
       "      <td>NaN</td>\n",
       "      <td>NaN</td>\n",
       "      <td>NaN</td>\n",
       "      <td>NaN</td>\n",
       "      <td>NaN</td>\n",
       "      <td>NaN</td>\n",
       "      <td>NaN</td>\n",
       "      <td>NaN</td>\n",
       "    </tr>\n",
       "  </tbody>\n",
       "</table>\n",
       "</div>"
      ],
      "text/plain": [
       "adults    0       1        2       3     4    5    6    10   20   26   27  \\\n",
       "month                                                                       \n",
       "1       26.0  1987.0   3711.0   205.0   NaN  NaN  NaN  NaN  NaN  NaN  NaN   \n",
       "2       34.0  1972.0   5710.0   350.0   2.0  NaN  NaN  NaN  NaN  NaN  NaN   \n",
       "3       43.0  2272.0   7038.0   437.0   4.0  NaN  NaN  NaN  NaN  NaN  NaN   \n",
       "4       32.0  1924.0   8520.0   610.0   3.0  NaN  NaN  NaN  NaN  NaN  NaN   \n",
       "5       27.0  2458.0   8843.0   457.0   6.0  NaN  NaN  NaN  NaN  NaN  NaN   \n",
       "6       22.0  2055.0   8292.0   566.0   4.0  NaN  NaN  NaN  NaN  NaN  NaN   \n",
       "7       50.0  1274.0  10134.0  1190.0  13.0  NaN  NaN  NaN  NaN  NaN  NaN   \n",
       "8       48.0  1168.0  11373.0  1271.0  17.0  NaN  NaN  NaN  NaN  NaN  NaN   \n",
       "9       19.0  1863.0   8291.0   320.0   7.0  NaN  NaN  NaN  NaN  4.0  2.0   \n",
       "10      29.0  2473.0   8292.0   357.0   1.0  2.0  1.0  1.0  2.0  1.0  NaN   \n",
       "11      29.0  2167.0   4474.0   123.0   1.0  NaN  NaN  NaN  NaN  NaN  NaN   \n",
       "12      44.0  1414.0   5002.0   316.0   4.0  NaN  NaN  NaN  NaN  NaN  NaN   \n",
       "\n",
       "adults   40   50   55  \n",
       "month                  \n",
       "1       NaN  NaN  NaN  \n",
       "2       NaN  NaN  NaN  \n",
       "3       NaN  NaN  NaN  \n",
       "4       NaN  NaN  NaN  \n",
       "5       NaN  NaN  NaN  \n",
       "6       NaN  NaN  NaN  \n",
       "7       NaN  NaN  NaN  \n",
       "8       NaN  NaN  NaN  \n",
       "9       1.0  1.0  NaN  \n",
       "10      NaN  NaN  1.0  \n",
       "11      NaN  NaN  NaN  \n",
       "12      NaN  NaN  NaN  "
      ]
     },
     "execution_count": 21,
     "metadata": {},
     "output_type": "execute_result"
    }
   ],
   "source": [
    "#I want to look into the number of people per booking\n",
    "hotel_data.groupby(['month', 'adults'])['hotel'].count().unstack()\n",
    "#As the table shows, anythinug above 3 adults is such a small number that I feel it can be ignored"
   ]
  },
  {
   "cell_type": "code",
   "execution_count": 22,
   "metadata": {},
   "outputs": [
    {
     "data": {
      "text/plain": [
       "<matplotlib.axes._subplots.AxesSubplot at 0x2a46eee2a88>"
      ]
     },
     "execution_count": 22,
     "metadata": {},
     "output_type": "execute_result"
    },
    {
     "data": {
      "image/png": "[encoded data removed]",
      "text/plain": [
       "<Figure size 432x288 with 1 Axes>"
      ]
     },
     "metadata": {
      "needs_background": "light"
     },
     "output_type": "display_data"
    }
   ],
   "source": [
    "hotel_data[hotel_data[\"adults\"] < 4].groupby(['month', 'adults'])['hotel'].count().unstack().plot()\n",
    "#This graph shows that the number of hotels booked with 2 adults follows the general trend of bookings with the peak in summer.\n",
    "#This makes sense as families go on vacation in summer. This also lines up with the fact that single person bookings drop in \n",
    "#summer as individuals on business trips or getting hotel by themselves are most likely shifting to spend time with\n",
    "#their families and not booking hotels just for themselves."
   ]
  },
  {
   "cell_type": "code",
   "execution_count": 23,
   "metadata": {},
   "outputs": [
    {
     "data": {
      "text/html": [
       "<div>\n",
       "<style scoped>\n",
       "    .dataframe tbody tr th:only-of-type {\n",
       "        vertical-align: middle;\n",
       "    }\n",
       "\n",
       "    .dataframe tbody tr th {\n",
       "        vertical-align: top;\n",
       "    }\n",
       "\n",
       "    .dataframe thead th {\n",
       "        text-align: right;\n",
       "    }\n",
       "</style>\n",
       "<table border=\"1\" class=\"dataframe\">\n",
       "  <thead>\n",
       "    <tr style=\"text-align: right;\">\n",
       "      <th>children</th>\n",
       "      <th>0.0</th>\n",
       "      <th>1.0</th>\n",
       "      <th>2.0</th>\n",
       "      <th>3.0</th>\n",
       "      <th>10.0</th>\n",
       "    </tr>\n",
       "    <tr>\n",
       "      <th>month</th>\n",
       "      <th></th>\n",
       "      <th></th>\n",
       "      <th></th>\n",
       "      <th></th>\n",
       "      <th></th>\n",
       "    </tr>\n",
       "  </thead>\n",
       "  <tbody>\n",
       "    <tr>\n",
       "      <td>1</td>\n",
       "      <td>5613.0</td>\n",
       "      <td>183.0</td>\n",
       "      <td>130.0</td>\n",
       "      <td>3.0</td>\n",
       "      <td>NaN</td>\n",
       "    </tr>\n",
       "    <tr>\n",
       "      <td>2</td>\n",
       "      <td>7503.0</td>\n",
       "      <td>346.0</td>\n",
       "      <td>213.0</td>\n",
       "      <td>6.0</td>\n",
       "      <td>NaN</td>\n",
       "    </tr>\n",
       "    <tr>\n",
       "      <td>3</td>\n",
       "      <td>9308.0</td>\n",
       "      <td>274.0</td>\n",
       "      <td>210.0</td>\n",
       "      <td>2.0</td>\n",
       "      <td>NaN</td>\n",
       "    </tr>\n",
       "    <tr>\n",
       "      <td>4</td>\n",
       "      <td>10310.0</td>\n",
       "      <td>422.0</td>\n",
       "      <td>352.0</td>\n",
       "      <td>5.0</td>\n",
       "      <td>NaN</td>\n",
       "    </tr>\n",
       "    <tr>\n",
       "      <td>5</td>\n",
       "      <td>11234.0</td>\n",
       "      <td>273.0</td>\n",
       "      <td>280.0</td>\n",
       "      <td>4.0</td>\n",
       "      <td>NaN</td>\n",
       "    </tr>\n",
       "    <tr>\n",
       "      <td>6</td>\n",
       "      <td>10216.0</td>\n",
       "      <td>394.0</td>\n",
       "      <td>324.0</td>\n",
       "      <td>5.0</td>\n",
       "      <td>NaN</td>\n",
       "    </tr>\n",
       "    <tr>\n",
       "      <td>7</td>\n",
       "      <td>11047.0</td>\n",
       "      <td>934.0</td>\n",
       "      <td>659.0</td>\n",
       "      <td>20.0</td>\n",
       "      <td>1.0</td>\n",
       "    </tr>\n",
       "    <tr>\n",
       "      <td>8</td>\n",
       "      <td>11930.0</td>\n",
       "      <td>1131.0</td>\n",
       "      <td>787.0</td>\n",
       "      <td>25.0</td>\n",
       "      <td>NaN</td>\n",
       "    </tr>\n",
       "    <tr>\n",
       "      <td>9</td>\n",
       "      <td>10118.0</td>\n",
       "      <td>182.0</td>\n",
       "      <td>208.0</td>\n",
       "      <td>NaN</td>\n",
       "      <td>NaN</td>\n",
       "    </tr>\n",
       "    <tr>\n",
       "      <td>10</td>\n",
       "      <td>10671.0</td>\n",
       "      <td>276.0</td>\n",
       "      <td>212.0</td>\n",
       "      <td>1.0</td>\n",
       "      <td>NaN</td>\n",
       "    </tr>\n",
       "    <tr>\n",
       "      <td>11</td>\n",
       "      <td>6590.0</td>\n",
       "      <td>131.0</td>\n",
       "      <td>71.0</td>\n",
       "      <td>2.0</td>\n",
       "      <td>NaN</td>\n",
       "    </tr>\n",
       "    <tr>\n",
       "      <td>12</td>\n",
       "      <td>6256.0</td>\n",
       "      <td>315.0</td>\n",
       "      <td>206.0</td>\n",
       "      <td>3.0</td>\n",
       "      <td>NaN</td>\n",
       "    </tr>\n",
       "  </tbody>\n",
       "</table>\n",
       "</div>"
      ],
      "text/plain": [
       "children     0.0     1.0    2.0   3.0   10.0\n",
       "month                                       \n",
       "1          5613.0   183.0  130.0   3.0   NaN\n",
       "2          7503.0   346.0  213.0   6.0   NaN\n",
       "3          9308.0   274.0  210.0   2.0   NaN\n",
       "4         10310.0   422.0  352.0   5.0   NaN\n",
       "5         11234.0   273.0  280.0   4.0   NaN\n",
       "6         10216.0   394.0  324.0   5.0   NaN\n",
       "7         11047.0   934.0  659.0  20.0   1.0\n",
       "8         11930.0  1131.0  787.0  25.0   NaN\n",
       "9         10118.0   182.0  208.0   NaN   NaN\n",
       "10        10671.0   276.0  212.0   1.0   NaN\n",
       "11         6590.0   131.0   71.0   2.0   NaN\n",
       "12         6256.0   315.0  206.0   3.0   NaN"
      ]
     },
     "execution_count": 23,
     "metadata": {},
     "output_type": "execute_result"
    }
   ],
   "source": [
    "hotel_data.groupby(['month', 'children'])['hotel'].count().unstack()\n",
    "#I'm going to ignord the rows with 3 or more children as they are such a small number that they can be ignored but it is clear\n",
    "#that 3 children hotels still peak in summer\n"
   ]
  },
  {
   "cell_type": "code",
   "execution_count": 24,
   "metadata": {},
   "outputs": [
    {
     "data": {
      "text/plain": [
       "<matplotlib.axes._subplots.AxesSubplot at 0x2a4732eb508>"
      ]
     },
     "execution_count": 24,
     "metadata": {},
     "output_type": "execute_result"
    },
    {
     "data": {
      "image/png": "[encoded data removed]",
      "text/plain": [
       "<Figure size 432x288 with 1 Axes>"
      ]
     },
     "metadata": {
      "needs_background": "light"
     },
     "output_type": "display_data"
    }
   ],
   "source": [
    "hotel_data[hotel_data[\"children\"] < 3].groupby(['month', 'children'])['hotel'].count().unstack().plot()\n",
    "#This one is really quite interesting as it seems that the majority of hotels are booked with 0 children. The number of hotels\n",
    "#booked with children does rise in Summer months as expected but not nearly as much as I would have predicted. It seems more so\n",
    "#that just more hotels are booked in summer overall"
   ]
  },
  {
   "cell_type": "code",
   "execution_count": 25,
   "metadata": {},
   "outputs": [
    {
     "data": {
      "text/plain": [
       "110796"
      ]
     },
     "execution_count": 25,
     "metadata": {},
     "output_type": "execute_result"
    }
   ],
   "source": [
    "hotel_data[hotel_data[\"children\"] < 1]['hotel'].count()\n",
    "#119390 is the total number of bookings. That means that over 90% of bookings actually do not have children. Perhaps there\n",
    "# is a difference between city and resort hotels?"
   ]
  },
  {
   "cell_type": "code",
   "execution_count": 26,
   "metadata": {},
   "outputs": [
    {
     "data": {
      "text/plain": [
       "<matplotlib.axes._subplots.AxesSubplot at 0x2a473350508>"
      ]
     },
     "execution_count": 26,
     "metadata": {},
     "output_type": "execute_result"
    },
    {
     "data": {
      "image/png": "[encoded data removed]",
      "text/plain": [
       "<Figure size 432x288 with 1 Axes>"
      ]
     },
     "metadata": {
      "needs_background": "light"
     },
     "output_type": "display_data"
    }
   ],
   "source": [
    "hotel_data.groupby(['month', 'hotel'])['children'].mean().unstack().plot()\n",
    "#even across hotel types, the vast majority of bookings have less than 1 child as part of the booking. That number does go up \n",
    "#in summer but it is still clear that hotels should be gearing their services towards hotels of 1 to 2 people"
   ]
  }
 ],
 "metadata": {
  "kernelspec": {
   "display_name": "Python 3",
   "language": "python",
   "name": "python3"
  },
  "language_info": {
   "codemirror_mode": {
    "name": "ipython",
    "version": 3
   },
   "file_extension": ".py",
   "mimetype": "text/x-python",
   "name": "python",
   "nbconvert_exporter": "python",
   "pygments_lexer": "ipython3",
   "version": "3.7.4"
  }
 },
 "nbformat": 4,
 "nbformat_minor": 2
}
